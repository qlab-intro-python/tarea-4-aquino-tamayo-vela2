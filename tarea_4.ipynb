{
 "cells": [
  {
   "cell_type": "markdown",
   "metadata": {},
   "source": [
    "# **Tarea Nº 4**"
   ]
  },
  {
   "cell_type": "markdown",
   "metadata": {},
   "source": [
    "- Fecha y hora de entrega: Domingo 12 de enero, 11:59pm\n",
    "- Agregue los nombres de las personas con las que discutió esta tarea: __Diego Aquino__, __Jose Tamayo__, __Franco Vela__\n",
    "- Envíe su tarea haciendo el `push` de su código a su repo en GitHub Classroom: "
   ]
  },
  {
   "cell_type": "markdown",
   "metadata": {},
   "source": [
    "## **Mercado de autos usados**"
   ]
  },
  {
   "cell_type": "markdown",
   "metadata": {},
   "source": [
    "Importa el conjunto de datos `neoauto_20240924.csv`\n",
    "    "
   ]
  },
  {
   "cell_type": "markdown",
   "metadata": {},
   "source": [
    "1. ¿Cuál es el precio promedio de los autos de cada marca (`item_brand`) publicados en cada subcategoría (`item_category_2`)?"
   ]
  },
  {
   "cell_type": "code",
   "execution_count": null,
   "metadata": {},
   "outputs": [],
   "source": [
    "# Solución"
   ]
  },
  {
   "cell_type": "markdown",
   "metadata": {},
   "source": [
    "2. ¿Cuántos autos tienen más de 100,000 kilómetros (`item_km`) pero un precio (`item_price`) menor al promedio general?"
   ]
  },
  {
   "cell_type": "code",
   "execution_count": null,
   "metadata": {},
   "outputs": [],
   "source": [
    "# Solución"
   ]
  },
  {
   "cell_type": "markdown",
   "metadata": {},
   "source": [
    "3. Encuentra el modelo (`item_name`) más caro y el más barato de cada marca (`item_brand`)."
   ]
  },
  {
   "cell_type": "code",
   "execution_count": null,
   "metadata": {},
   "outputs": [],
   "source": [
    "# Solución"
   ]
  },
  {
   "cell_type": "markdown",
   "metadata": {},
   "source": [
    "4. Encuentra las tres marcas con mayor número de autos financiados por Santander (`item_financed_by`). "
   ]
  },
  {
   "cell_type": "code",
   "execution_count": null,
   "metadata": {},
   "outputs": [],
   "source": [
    "# Solución"
   ]
  },
  {
   "cell_type": "markdown",
   "metadata": {},
   "source": [
    "5. Agrupa las publicaciones por tipo de transmisión (`item_transmission`) y calcula la desviación estándar del precio (`item_price`) para cada tipo.  "
   ]
  },
  {
   "cell_type": "code",
   "execution_count": null,
   "metadata": {},
   "outputs": [],
   "source": [
    "# Solución"
   ]
  },
  {
   "cell_type": "markdown",
   "metadata": {},
   "source": [
    "6. ¿Cuál es el kilometraje promedio de las publicaciones con el tag \"Premium\" y de las publicaciones con el tag \"Como nuevo\"?"
   ]
  },
  {
   "cell_type": "code",
   "execution_count": null,
   "metadata": {},
   "outputs": [],
   "source": [
    "# Solución"
   ]
  },
  {
   "cell_type": "markdown",
   "metadata": {},
   "source": [
    "7. ¿Cuáles son las marcas de vehículas para los que todos sus modelos fabricados en los últimos 5 años tienen al menos 5 publicaciones cada una?"
   ]
  },
  {
   "cell_type": "code",
   "execution_count": null,
   "metadata": {},
   "outputs": [],
   "source": [
    "# Solución"
   ]
  },
  {
   "cell_type": "markdown",
   "metadata": {},
   "source": [
    "## **Evolución económica internacional**"
   ]
  },
  {
   "cell_type": "markdown",
   "metadata": {},
   "source": [
    "Importa el conjunto de datos de la hoja \"Data\" del archivo `pwt1001.xlsx`. El diccionario de variables está disponible en la hoja \"Legend\" del archivo Excel.\n",
    "    "
   ]
  },
  {
   "cell_type": "markdown",
   "metadata": {},
   "source": [
    "1. Calcule el PBI per cápita real ajustado por poder de paridad de compra (PPP). Use la variable de PBI que se calcula por gasto y la población. ¿Cuáles son los 10 países top?"
   ]
  },
  {
   "cell_type": "code",
   "execution_count": 40,
   "metadata": {},
   "outputs": [
    {
     "name": "stdout",
     "output_type": "stream",
     "text": [
      "                  country   rgdpe_pc_ppp\n",
      "102            Luxembourg  112941.453342\n",
      "104      China, Macao SAR  105337.890061\n",
      "139                 Qatar  103445.127269\n",
      "79                Ireland  102353.631443\n",
      "146             Singapore   88619.305271\n",
      "22                Bermuda   79967.588736\n",
      "31            Switzerland   71831.637057\n",
      "43         Cayman Islands   70208.345162\n",
      "4    United Arab Emirates   69753.215256\n",
      "26      Brunei Darussalam   67555.392597\n"
     ]
    }
   ],
   "source": [
    "# Solución\n",
    "import pandas as pd\n",
    "data = pd.read_excel(\"C:/Users/HP/Documents/GitHub/tarea-4-aquino-tamayo-vela2/pwt1001.xlsx\", sheet_name='Data')\n",
    "\n",
    "data['rgdpe_pc_ppp'] = data['rgdpe'] / data['pop']\n",
    "\n",
    "recent_years = data.groupby('countrycode')['year'].max().reset_index()\n",
    "recent_data = pd.merge(recent_years, data, on=['countrycode', 'year'])\n",
    "\n",
    "top_10_countries = recent_data.nlargest(10, 'rgdpe_pc_ppp')[['country', 'rgdpe_pc_ppp']]\n",
    "\n",
    "print(top_10_countries)"
   ]
  },
  {
   "cell_type": "markdown",
   "metadata": {},
   "source": [
    "2. Genera el ránking de los países con el mayor incremento del PBI per cápita real PPP entre los años 1990 y 2019. ¿Dónde se ubica Perú? Para los países que no tengan información para dichos años, puede utilizar datos provenientes de hasta dos años antes o después"
   ]
  },
  {
   "cell_type": "code",
   "execution_count": 7,
   "metadata": {},
   "outputs": [
    {
     "name": "stdout",
     "output_type": "stream",
     "text": [
      "Top 10 países con mayor incremento en PBI per cápita real PPP:\n",
      "            country    ppp_growth\n",
      "0           Ireland  82726.713568\n",
      "1  China, Macao SAR  78788.824158\n",
      "2             Qatar  75444.868541\n",
      "3         Singapore  67092.155508\n",
      "4        Luxembourg  66997.038564\n",
      "5           Bermuda  48231.808944\n",
      "6             Malta  35968.133995\n",
      "7            Norway  34098.305410\n",
      "8            Kuwait  34055.592958\n",
      "9      Saudi Arabia  32993.864961\n",
      "\n",
      "Perú se encuentra en la posición: 82\n"
     ]
    }
   ],
   "source": [
    "# Solución\n",
    "data_filtered = data[(data['year'] >= 1988) & (data['year'] <= 2021)]\n",
    "\n",
    "data_1990 = data_filtered.loc[data_filtered['year'].sub(1990).abs().groupby(data_filtered['countrycode']).idxmin()]\n",
    "data_2019 = data_filtered.loc[data_filtered['year'].sub(2019).abs().groupby(data_filtered['countrycode']).idxmin()]\n",
    "\n",
    "merged_data = pd.merge(\n",
    "    data_1990[['countrycode', 'country', 'rgdpe_pc_ppp']].rename(columns={'rgdpe_pc_ppp': 'rgdpe_pc_ppp_1990'}),\n",
    "    data_2019[['countrycode', 'rgdpe_pc_ppp']].rename(columns={'rgdpe_pc_ppp': 'rgdpe_pc_ppp_2019'}),\n",
    "    on='countrycode'\n",
    ")\n",
    "\n",
    "merged_data['ppp_growth'] = merged_data['rgdpe_pc_ppp_2019'] - merged_data['rgdpe_pc_ppp_1990']\n",
    "\n",
    "ranking = merged_data.sort_values(by='ppp_growth', ascending=False).reset_index(drop=True)\n",
    "\n",
    "peru_position = ranking[ranking['countrycode'] == 'PER'].index[0] + 1 if 'PER' in ranking['countrycode'].values else None\n",
    "\n",
    "top_10_countries = ranking[['country', 'ppp_growth']].head(10)\n",
    "print(\"Top 10 países con mayor incremento en PBI per cápita real PPP:\")\n",
    "print(top_10_countries)\n",
    "\n",
    "if peru_position:\n",
    "    print(f\"\\nPerú se encuentra en la posición: {peru_position}\")\n",
    "else:\n",
    "    print(\"\\nPerú no tiene datos disponibles para este análisis.\")"
   ]
  },
  {
   "cell_type": "markdown",
   "metadata": {},
   "source": [
    "3. Para el periodo 2010-2019, calcule el promedio del índice del capital humano. ¿Qué relación existe entre esta variable y el PBI per cápita real PPP calculado previamente? ¿y el número de horas laboradas al año por los trabajadores?"
   ]
  },
  {
   "cell_type": "code",
   "execution_count": 9,
   "metadata": {},
   "outputs": [
    {
     "name": "stdout",
     "output_type": "stream",
     "text": [
      "Resumen de datos combinados:\n",
      "           hc_avg        ppp_avg      avh_avg\n",
      "count  145.000000     183.000000    66.000000\n",
      "mean     2.608130   21824.936268  1874.186633\n",
      "std      0.688566   22370.442294   270.522674\n",
      "min      1.195960     760.055772  1390.170680\n",
      "25%      2.034321    5221.510286  1669.381684\n",
      "50%      2.674898   14008.432573  1849.780904\n",
      "75%      3.164617   30751.445052  2082.694520\n",
      "max      3.738265  127462.470192  2444.905644\n"
     ]
    }
   ],
   "source": [
    "# Solución\n",
    "import seaborn as sns\n",
    "import matplotlib.pyplot as plt\n",
    "\n",
    "data['rgdpe_pc_ppp'] = data['rgdpe'] / data['pop']\n",
    "\n",
    "data_period = data[(data['year'] >= 2010) & (data['year'] <= 2019)]\n",
    "\n",
    "hc_avg = data_period.groupby('countrycode')['hc'].mean().reset_index()\n",
    "hc_avg = hc_avg.rename(columns={'hc': 'hc_avg'})\n",
    "\n",
    "ppp_avg = data_period.groupby('countrycode')['rgdpe_pc_ppp'].mean().reset_index().rename(columns={'rgdpe_pc_ppp': 'ppp_avg'})\n",
    "avh_avg = data_period.groupby('countrycode')['avh'].mean().reset_index().rename(columns={'avh': 'avh_avg'})\n",
    "\n",
    "combined_data = hc_avg.merge(ppp_avg, on='countrycode').merge(avh_avg, on='countrycode')\n",
    "\n",
    "print(\"Resumen de datos combinados:\")\n",
    "print(combined_data.describe())"
   ]
  },
  {
   "cell_type": "markdown",
   "metadata": {},
   "source": [
    "4. A partir de la variable del precio de los hogares, calcula los países y los años en los cuales se registró la mayor inflación anual para todo el periodo de tiempo disponible en la base de datos"
   ]
  },
  {
   "cell_type": "code",
   "execution_count": 33,
   "metadata": {},
   "outputs": [
    {
     "name": "stdout",
     "output_type": "stream",
     "text": [
      "Mayor inflación anual registrada:\n",
      "País: Venezuela (Bolivarian Republic of)\n",
      "Año: 2017\n",
      "Inflación: 355.75%\n"
     ]
    },
    {
     "name": "stderr",
     "output_type": "stream",
     "text": [
      "C:\\Users\\HP\\AppData\\Local\\Temp\\ipykernel_17568\\2485677633.py:7: FutureWarning: The default fill_method='ffill' in SeriesGroupBy.pct_change is deprecated and will be removed in a future version. Either fill in any non-leading NA values prior to calling pct_change or specify 'fill_method=None' to not fill NA values.\n",
      "  data_sorted['inflation'] = data_sorted.groupby('country')['pl_c'].pct_change() * 100\n"
     ]
    }
   ],
   "source": [
    "# Solución\n",
    "if {'country', 'year', 'pl_c'}.issubset(data.columns):\n",
    "    data_sorted = data.sort_values(by=['country', 'year'])\n",
    "    \n",
    "    data_sorted['inflation'] = data_sorted.groupby('country')['pl_c'].pct_change() * 100\n",
    "    \n",
    "    max_inflation_row = data_sorted.loc[data_sorted['inflation'].idxmax()]\n",
    "    \n",
    "    print(f\"Mayor inflación anual registrada:\")\n",
    "    print(f\"País: {max_inflation_row['country']}\")\n",
    "    print(f\"Año: {int(max_inflation_row['year'])}\")\n",
    "    print(f\"Inflación: {max_inflation_row['inflation']:.2f}%\")"
   ]
  },
  {
   "cell_type": "markdown",
   "metadata": {},
   "source": [
    "5. ¿Cuáles son los países con la mayor cantidad de missing values en la variable de productividad total de factores a precios corrientes?"
   ]
  },
  {
   "cell_type": "code",
   "execution_count": 30,
   "metadata": {},
   "outputs": [
    {
     "name": "stdout",
     "output_type": "stream",
     "text": [
      "country\n",
      "Albania                           70\n",
      "Turkmenistan                      70\n",
      "Sint Maarten (Dutch part)         70\n",
      "Grenada                           70\n",
      "Ghana                             70\n",
      "Georgia                           70\n",
      "Gambia                            70\n",
      "St. Vincent and the Grenadines    70\n",
      "Pakistan                          70\n",
      "Ethiopia                          70\n",
      "Name: ctfp, dtype: int64\n"
     ]
    }
   ],
   "source": [
    "# Solución\n",
    "\n",
    "if 'ctfp' in data.columns and 'country' in data.columns:\n",
    "   \n",
    "    missing_values = data.groupby('country')['ctfp'].apply(lambda x: x.isnull().sum())\n",
    "    \n",
    "    missing_values_sorted = missing_values.sort_values(ascending=False)\n",
    "    \n",
    "    print(missing_values_sorted.head(10))\n",
    "\n"
   ]
  },
  {
   "cell_type": "markdown",
   "metadata": {},
   "source": [
    "6.  Agrupa los datos por país y calcula el promedio de las horas trabajadas anuales (avh) y de la educación promedio (hc) para el periodo 2000-2020."
   ]
  },
  {
   "cell_type": "code",
   "execution_count": 39,
   "metadata": {},
   "outputs": [
    {
     "name": "stdout",
     "output_type": "stream",
     "text": [
      "Promedios de horas trabajadas anuales y educación promedio (2000-2020):\n",
      "                                            avh        hc\n",
      "country                                                  \n",
      "Albania                                     NaN  2.895579\n",
      "Algeria                                     NaN  2.080837\n",
      "Angola                                      NaN  1.399746\n",
      "Anguilla                                    NaN       NaN\n",
      "Antigua and Barbuda                         NaN       NaN\n",
      "...                                         ...       ...\n",
      "Venezuela (Bolivarian Republic of)  1874.516018  2.538335\n",
      "Viet Nam                            2243.230824  2.407059\n",
      "Yemen                                       NaN  1.444725\n",
      "Zambia                                      NaN  2.304970\n",
      "Zimbabwe                                    NaN  2.388763\n",
      "\n",
      "[183 rows x 2 columns]\n"
     ]
    }
   ],
   "source": [
    "# Solución\n",
    "filtered_data = data[(data['year'] >= 2000) & (data['year'] <= 2020)]\n",
    "if {'country', 'avh', 'hc'}.issubset(filtered_data.columns):\n",
    "\n",
    "    averages = filtered_data.groupby('country')[['avh', 'hc']].mean()\n",
    "\n",
    "    print(\"Promedios de horas trabajadas anuales y educación promedio (2000-2020):\")\n",
    "    print(averages)"
   ]
  },
  {
   "cell_type": "markdown",
   "metadata": {},
   "source": [
    "7.  Genere una variable que ordene a los países según el porcetaje de formación brutal de capital del 2019. Luego, estable diez grupos a manera de deciles. ¿En qué decil se ubica Péru? Vuelva a calcular usando la información de 1990. ¿El Perú se mantiene en el mismo décil o cambia?"
   ]
  },
  {
   "cell_type": "code",
   "execution_count": 41,
   "metadata": {},
   "outputs": [
    {
     "name": "stdout",
     "output_type": "stream",
     "text": [
      "Perú en 2019 está en el decil: 5\n",
      "Perú en 1990 está en el decil: 4.0\n",
      "Perú cambia de decil entre 1990 y 2019.\n"
     ]
    }
   ],
   "source": [
    "# Solución\n",
    "data_2019 = data[data['year'] == 2019]\n",
    "data_1990 = data[data['year'] == 1990]\n",
    "\n",
    "if {'country', 'csh_i'}.issubset(data.columns):\n",
    "    data_2019 = data_2019.sort_values(by='csh_i', ascending=False)\n",
    "    data_2019['decile_2019'] = pd.qcut(data_2019['csh_i'], 10, labels=False) + 1  \n",
    "\n",
    "    data_1990 = data_1990.sort_values(by='csh_i', ascending=False)\n",
    "    data_1990['decile_1990'] = pd.qcut(data_1990['csh_i'], 10, labels=False) + 1  \n",
    "    \n",
    "    peru_2019 = data_2019[data_2019['country'] == 'Peru']['decile_2019'].values\n",
    "    peru_1990 = data_1990[data_1990['country'] == 'Peru']['decile_1990'].values\n",
    "\n",
    "   \n",
    "    print(f\"Perú en 2019 está en el decil: {peru_2019[0] if len(peru_2019) > 0 else 'No disponible'}\")\n",
    "    print(f\"Perú en 1990 está en el decil: {peru_1990[0] if len(peru_1990) > 0 else 'No disponible'}\")\n",
    "\n",
    "    if peru_2019 and peru_1990:\n",
    "        if peru_2019[0] == peru_1990[0]:\n",
    "            print(\"Perú se mantiene en el mismo decil en 1990 y 2019.\")\n",
    "        else:\n",
    "            print(\"Perú cambia de decil entre 1990 y 2019.\")\n",
    "    else:\n",
    "        print(\"No hay información suficiente para Perú en uno o ambos años.\")"
   ]
  },
  {
   "cell_type": "markdown",
   "metadata": {},
   "source": [
    "## **Transacciones Financieras**"
   ]
  },
  {
   "cell_type": "markdown",
   "metadata": {},
   "source": [
    "Importa el conjunto de datos `base_financiera.csv`\n",
    "    "
   ]
  },
  {
   "cell_type": "markdown",
   "metadata": {},
   "source": [
    "8. Filtra todas las transacciones de tipo \"Debit\" en las que el monto sea mayor a 200, y calcula el monto total de esas transacciones. Además, determina cuántos clientes únicos realizaron esas transacciones."
   ]
  },
  {
   "cell_type": "code",
   "execution_count": null,
   "metadata": {},
   "outputs": [],
   "source": [
    "# Solución"
   ]
  },
  {
   "cell_type": "markdown",
   "metadata": {},
   "source": [
    "9. Identifica las transacciones con valores nulos en la columna (`Amount`) . Rellena esos valores con la mediana de los montos por tipo de transacción (`Transaction_Type`) y luego calcula el monto total de transacciones por región (`region`) ."
   ]
  },
  {
   "cell_type": "code",
   "execution_count": null,
   "metadata": {},
   "outputs": [],
   "source": [
    "# Solución"
   ]
  },
  {
   "cell_type": "markdown",
   "metadata": {},
   "source": [
    "10. Busca transacciones duplicadas considerando las columnas (`Customer_ID`) y (`Date`). Elimina los duplicados manteniendo solo la primera ocurrencia. Luego, agrupa las transacciones restantes por (`Customer_ID`) y calcula el monto promedio y la cantidad de transacciones por cliente."
   ]
  },
  {
   "cell_type": "code",
   "execution_count": null,
   "metadata": {},
   "outputs": [],
   "source": [
    "# Solución"
   ]
  }
 ],
 "metadata": {
  "hide_input": false,
  "kernelspec": {
   "display_name": "Python 3 (ipykernel)",
   "language": "python",
   "name": "python3"
  },
  "language_info": {
   "codemirror_mode": {
    "name": "ipython",
    "version": 3
   },
   "file_extension": ".py",
   "mimetype": "text/x-python",
   "name": "python",
   "nbconvert_exporter": "python",
   "pygments_lexer": "ipython3",
   "version": "3.9.13"
  },
  "toc": {
   "base_numbering": 1,
   "nav_menu": {},
   "number_sections": true,
   "sideBar": true,
   "skip_h1_title": false,
   "title_cell": "Table of Contents",
   "title_sidebar": "Contents",
   "toc_cell": false,
   "toc_position": {},
   "toc_section_display": true,
   "toc_window_display": false
  }
 },
 "nbformat": 4,
 "nbformat_minor": 4
}
